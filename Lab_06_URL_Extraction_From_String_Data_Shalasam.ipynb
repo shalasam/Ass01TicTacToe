{
  "nbformat": 4,
  "nbformat_minor": 0,
  "metadata": {
    "colab": {
      "provenance": [],
      "authorship_tag": "ABX9TyORcddjzWXWuiMPTbUR0It9",
      "include_colab_link": true
    },
    "kernelspec": {
      "name": "python3",
      "display_name": "Python 3"
    },
    "language_info": {
      "name": "python"
    }
  },
  "cells": [
    {
      "cell_type": "markdown",
      "metadata": {
        "id": "view-in-github",
        "colab_type": "text"
      },
      "source": [
        "<a href=\"https://colab.research.google.com/github/shalasam/Ass01TicTacToe/blob/main/Lab_06_URL_Extraction_From_String_Data_Shalasam.ipynb\" target=\"_parent\"><img src=\"https://colab.research.google.com/assets/colab-badge.svg\" alt=\"Open In Colab\"/></a>"
      ]
    },
    {
      "cell_type": "code",
      "execution_count": 6,
      "metadata": {
        "colab": {
          "base_uri": "https://localhost:8080/"
        },
        "id": "IuUk-NEObAa7",
        "outputId": "8d690943-2a07-4dd0-cf26-6b2505386108"
      },
      "outputs": [
        {
          "output_type": "stream",
          "name": "stdout",
          "text": [
            "Done! Your categorized URLs are in `categorized_urls.txt`\n"
          ]
        }
      ],
      "source": [
        "import re\n",
        "\n",
        "LOG_FILE_PATH = \"kucukkgl.log\"\n",
        "OUTPUT_FILE_PATH = \"categorized_urls.txt\"\n",
        "\n",
        "CATEGORIES = {\n",
        "    \"Login Pages\":        [\"login\", \"signin\", \"auth\"],\n",
        "    \"API Requests\":       [\"api\", \"json\"],\n",
        "    \"Sensitive Data Exposure\": [\"session_id\", \"auth_token\", \"password\"],\n",
        "    \"Malicious Domains\":  [\".ru\", \".xyz\", \".top\"],\n",
        "    \"Cloud Services\":     [\"aws\", \"googleapis\", \"dropbox\"],\n",
        "}\n",
        "\n",
        "url_pattern = re.compile(r'https?://[\\w./?=&%-]+')\n",
        "with open(LOG_FILE_PATH, \"r\", encoding=\"utf-8\", errors=\"ignore\") as f:\n",
        "    content = f.read()\n",
        "    urls = set(url_pattern.findall(content))\n",
        "\n",
        "categorized_urls = {category: [] for category in CATEGORIES}\n",
        "\n",
        "for url in sorted(urls):\n",
        "    for category, keywords in CATEGORIES.items():\n",
        "        if any(keyword in url for keyword in keywords):\n",
        "            categorized_urls[category].append(url)\n",
        "\n",
        "with open(OUTPUT_FILE_PATH, \"w\", encoding=\"utf-8\") as out:\n",
        "    for category, url_list in categorized_urls.items():\n",
        "        out.write(f\"{category} ({len(url_list)} URLs)\\n\")\n",
        "        for u in url_list:\n",
        "            out.write(f\"{u}\\n\")\n",
        "        out.write(\"\\n\")\n",
        "\n",
        "print(f\"Done! Your categorized URLs are in `{OUTPUT_FILE_PATH}`\")"
      ]
    },
    {
      "cell_type": "code",
      "metadata": {
        "colab": {
          "base_uri": "https://localhost:8080/"
        },
        "id": "494b58cc",
        "outputId": "e87a7f53-30ee-4d0d-e965-50c4b1151a81"
      },
      "source": [
        "log_content = \"\"\"127.0.0.1:52344 > practicetestautomation.com:443 [TLS] Client Hello\n",
        "    version: TLS 1.2\n",
        "    cipher suites: [ …, ECDHE-RSA-AES256-GCM-SHA384, … ]\n",
        "\n",
        "127.0.0.1:52344 > practicetestautomation.com:443 [TLS] Server Hello\n",
        "    version: TLS 1.2\n",
        "    selected cipher: ECDHE-RSA-AES256-GCM-SHA384\n",
        "\n",
        "--> GET https://practicetestautomation.com/practice-test-login/ HTTP/1.1\n",
        "    Host: practicetestautomation.com\n",
        "    User-Agent: Mozilla/5.0 (X11; Linux x86_64; rv:90.0) Gecko/20100101 Firefox/90.0\n",
        "    Accept: text/html,application/xhtml+xml,…\n",
        "\n",
        "<-- 200 OK https://practicetestautomation.com/practice-test-login/ (text/html) 15.2 KB\n",
        "    Content-Type: text/html; charset=UTF-8\n",
        "    Set-Cookie: session_id=abc123; Secure; HttpOnly\n",
        "\n",
        "--> POST https://practicetestautomation.com/login/ HTTP/1.1\n",
        "    Host: practicetestautomation.com\n",
        "    Content-Type: application/x-www-form-urlencoded\n",
        "    Content-Length: 36\n",
        "\n",
        "    username=student&password=password123\n",
        "\n",
        "<-- 302 Found https://practicetestautomation.com/secure-area/ (text/html) 0 B\n",
        "    Location: /secure-area/\n",
        "    Set-Cookie: auth_token=xyz789; Secure; HttpOnly\n",
        "\n",
        "…\n",
        "(Additional flows, ARP/ICMP, other GET/POSTs, etc.)\n",
        "\"\"\"\n",
        "\n",
        "with open(\"kucukkgl.log\", \"w\") as f:\n",
        "    f.write(log_content)\n",
        "\n",
        "print(\"Log file 'kucukkgl.log' created with provided content.\")"
      ],
      "execution_count": 7,
      "outputs": [
        {
          "output_type": "stream",
          "name": "stdout",
          "text": [
            "Log file 'kucukkgl.log' created with provided content.\n"
          ]
        }
      ]
    }
  ]
}